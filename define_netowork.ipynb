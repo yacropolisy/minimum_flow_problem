{
 "cells": [
  {
   "cell_type": "code",
   "execution_count": 1,
   "metadata": {},
   "outputs": [],
   "source": [
    "import pandas as pd"
   ]
  },
  {
   "cell_type": "markdown",
   "metadata": {},
   "source": [
    "# node"
   ]
  },
  {
   "cell_type": "code",
   "execution_count": 2,
   "metadata": {},
   "outputs": [],
   "source": [
    "node = pd.DataFrame({'id' : [i for i in range(127)], 'demand' : 0})\n",
    "\n",
    "node.loc[125, 'demand'] = 100\n",
    "node.loc[126, 'demand'] = -100"
   ]
  },
  {
   "cell_type": "code",
   "execution_count": 3,
   "metadata": {},
   "outputs": [],
   "source": [
    "node.to_csv('./data/node_test.csv', index=None)"
   ]
  },
  {
   "cell_type": "markdown",
   "metadata": {},
   "source": [
    "# edge\n",
    "- base_router : 基地局 - ルータ\n",
    "- router_server : ルータ - サーバ\n",
    "- source_base :  ソース - 基地局\n",
    "- source_server : ソース - サーバ"
   ]
  },
  {
   "cell_type": "code",
   "execution_count": 4,
   "metadata": {},
   "outputs": [],
   "source": [
    "base_router1 = pd.DataFrame({'node1' : [i for i in range(100)], 'node2' : [100 + 5 * (i // 20) + i % 10 // 2 for i in range(100)]})\n",
    "\n",
    "#上のルータと繋ぐか下のルータと繋ぐか\n",
    "base_router2 = pd.DataFrame({'node1' : [i for i in range(10, 90)], 'node2' : [ 5 + 100 + 5 * (i // 20) + i % 10 // 2 if (i % 20) >= 10 else -5 + 100 + 5 * (i // 20) + i % 10 // 2 for i in range(10, 90)]})\n",
    "\n",
    "base_router1['capacity'] = 1\n",
    "base_router2['capacity'] = 1\n",
    "base_router1['weight'] = 0\n",
    "base_router2['weight'] = 0"
   ]
  },
  {
   "cell_type": "code",
   "execution_count": 5,
   "metadata": {},
   "outputs": [],
   "source": [
    "router_server = pd.DataFrame({'node1' : [i for i in range(100, 125)], 'node2': 125, 'capacity': 1.2, 'weight': 0})"
   ]
  },
  {
   "cell_type": "code",
   "execution_count": 6,
   "metadata": {},
   "outputs": [],
   "source": [
    "import random\n",
    "source_base = pd.DataFrame({'node1': 126, 'node2' : [i for i in range(100)], 'capacity' : 1, 'weight' : [1 / (random.random() + 1) for i in range(100)]})"
   ]
  },
  {
   "cell_type": "code",
   "execution_count": 7,
   "metadata": {},
   "outputs": [],
   "source": [
    "source_server = pd.DataFrame({'node1' : [126], 'node2': [125], 'capacity': [100], 'weight' : [2]})"
   ]
  },
  {
   "cell_type": "code",
   "execution_count": 8,
   "metadata": {},
   "outputs": [],
   "source": [
    "edge = pd.concat([base_router1, base_router2, router_server, source_base, source_server], axis = 0)"
   ]
  },
  {
   "cell_type": "code",
   "execution_count": 9,
   "metadata": {},
   "outputs": [],
   "source": [
    "edge.to_csv('./data/edge_test.csv', index=None)"
   ]
  },
  {
   "cell_type": "code",
   "execution_count": null,
   "metadata": {},
   "outputs": [],
   "source": []
  }
 ],
 "metadata": {
  "kernelspec": {
   "display_name": "Python 3",
   "language": "python",
   "name": "python3"
  },
  "language_info": {
   "codemirror_mode": {
    "name": "ipython",
    "version": 3
   },
   "file_extension": ".py",
   "mimetype": "text/x-python",
   "name": "python",
   "nbconvert_exporter": "python",
   "pygments_lexer": "ipython3",
   "version": "3.6.2"
  }
 },
 "nbformat": 4,
 "nbformat_minor": 2
}
